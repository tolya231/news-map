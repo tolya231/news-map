{
 "cells": [
  {
   "cell_type": "code",
   "execution_count": 1,
   "metadata": {
    "scrolled": true
   },
   "outputs": [],
   "source": [
    "import pandas as pd\n",
    "from bs4 import BeautifulSoup\n",
    "import numpy as np\n",
    "import requests\n",
    "import schedule\n",
    "import time"
   ]
  },
  {
   "cell_type": "code",
   "execution_count": 3,
   "metadata": {},
   "outputs": [
    {
     "data": {
      "text/plain": [
       "['https://news.yandex.ru/Kaliningrad/index.rss',\n",
       " 'https://news.yandex.ru/Moscow_and_Moscow_Oblast/index.rss',\n",
       " 'https://news.yandex.ru/Krasnodar/index.rss',\n",
       " 'https://news.yandex.ru/Saint_Petersburg/index.rss',\n",
       " 'https://news.yandex.ru/Yekaterinburg/index.rss',\n",
       " 'https://news.yandex.ru/Rostov-na-Donu/index.rss',\n",
       " 'https://news.yandex.ru/Ufa/index.rss',\n",
       " 'https://news.yandex.ru/Kazan/index.rss',\n",
       " 'https://news.yandex.ru/Tyumen/index.rss',\n",
       " 'https://news.yandex.ru/Chelyabinsk/index.rss',\n",
       " 'https://news.yandex.ru/Nizhny_Novgorod/index.rss']"
      ]
     },
     "execution_count": 3,
     "metadata": {},
     "output_type": "execute_result"
    }
   ],
   "source": [
    "biggest_cities = []\n",
    "\n",
    "biggest_cities.append('https://news.yandex.ru/Kaliningrad/index.rss')\n",
    "biggest_cities.append('https://news.yandex.ru/Moscow_and_Moscow_Oblast/index.rss')\n",
    "biggest_cities.append('https://news.yandex.ru/Krasnodar/index.rss')\n",
    "biggest_cities.append('https://news.yandex.ru/Saint_Petersburg/index.rss')\n",
    "biggest_cities.append('https://news.yandex.ru/Yekaterinburg/index.rss')\n",
    "biggest_cities.append('https://news.yandex.ru/Rostov-na-Donu/index.rss')\n",
    "biggest_cities.append('https://news.yandex.ru/Ufa/index.rss')\n",
    "biggest_cities.append('https://news.yandex.ru/Kazan/index.rss')\n",
    "biggest_cities.append('https://news.yandex.ru/Tyumen/index.rss')\n",
    "biggest_cities.append('https://news.yandex.ru/Chelyabinsk/index.rss')\n",
    "biggest_cities.append('https://news.yandex.ru/Nizhny_Novgorod/index.rss')"
   ]
  },
  {
   "cell_type": "code",
   "execution_count": 9,
   "metadata": {},
   "outputs": [],
   "source": [
    "def read_rss():\n",
    "    for city_rss in biggest_cities:\n",
    "        html_doc = requests.get(city_rss).text\n",
    "        soup = BeautifulSoup(html_doc, 'html.parser')\n",
    "        data = []\n",
    "        for item in soup.find_all('item'):\n",
    "            try:\n",
    "                data.append([item.title.text, item.link.text, item.description.text, item.pubdate.text, city_rss])\n",
    "            except Exception as e:\n",
    "                print(e)\n",
    "        news_columns = ['title', 'link', 'text', 'date', 'city_rss']\n",
    "        news = pd.DataFrame(data, columns = news_columns)\n",
    "        print(len(news.index))\n",
    "        print(time.strftime(\"%Y-%m-%d %H:%M:%S\", time.gmtime()))\n",
    "        news.to_csv('news.csv', mode='a+', index=False, header=False)"
   ]
  },
  {
   "cell_type": "code",
   "execution_count": 15,
   "metadata": {},
   "outputs": [
    {
     "name": "stdout",
     "output_type": "stream",
     "text": [
      "18\n",
      "1573852029.7608473\n",
      "18\n",
      "1573852029.7718196\n",
      "18\n",
      "2019-11-15 21:08:03\n",
      "18\n",
      "1573852089.8374536\n",
      "18\n",
      "1573852089.8643682\n"
     ]
    },
    {
     "ename": "KeyboardInterrupt",
     "evalue": "",
     "output_type": "error",
     "traceback": [
      "\u001b[1;31m---------------------------------------------------------------------------\u001b[0m",
      "\u001b[1;31mKeyboardInterrupt\u001b[0m                         Traceback (most recent call last)",
      "\u001b[1;32m<ipython-input-15-366414c7e16a>\u001b[0m in \u001b[0;36m<module>\u001b[1;34m()\u001b[0m\n\u001b[0;32m      3\u001b[0m \u001b[1;32mwhile\u001b[0m \u001b[1;32mTrue\u001b[0m\u001b[1;33m:\u001b[0m\u001b[1;33m\u001b[0m\u001b[0m\n\u001b[0;32m      4\u001b[0m     \u001b[0mschedule\u001b[0m\u001b[1;33m.\u001b[0m\u001b[0mrun_pending\u001b[0m\u001b[1;33m(\u001b[0m\u001b[1;33m)\u001b[0m\u001b[1;33m\u001b[0m\u001b[0m\n\u001b[1;32m----> 5\u001b[1;33m     \u001b[0mtime\u001b[0m\u001b[1;33m.\u001b[0m\u001b[0msleep\u001b[0m\u001b[1;33m(\u001b[0m\u001b[1;36m1\u001b[0m\u001b[1;33m)\u001b[0m\u001b[1;33m\u001b[0m\u001b[0m\n\u001b[0m",
      "\u001b[1;31mKeyboardInterrupt\u001b[0m: "
     ]
    }
   ],
   "source": [
    "schedule.every(5).hours.do(read_rss)\n",
    "\n",
    "while True:\n",
    "    schedule.run_pending()\n",
    "    time.sleep(5*60*60)"
   ]
  },
  {
   "cell_type": "code",
   "execution_count": 11,
   "metadata": {},
   "outputs": [],
   "source": [
    "# read_rss()"
   ]
  },
  {
   "cell_type": "code",
   "execution_count": 2,
   "metadata": {},
   "outputs": [],
   "source": [
    "yandex_link=\"https://yandex.ru/news/story/Direktor_Rotaru_nazval_zakaznoj_travlyu_pevicy_v_Rossii--9b9a6c1f05f400b793535c46243815e2?lr=2&lang=ru&stid=RCUvqvbvcssJUUYqJZYH&persistent_id=80595498&rubric=index&from=index\""
   ]
  },
  {
   "cell_type": "code",
   "execution_count": 9,
   "metadata": {},
   "outputs": [
    {
     "data": {
      "text/plain": [
       "'Общество'"
      ]
     },
     "execution_count": 9,
     "metadata": {},
     "output_type": "execute_result"
    }
   ],
   "source": [
    "def active_category(linkhtml_doc = requests.get(yandex_link).text\n",
    "soup = BeautifulSoup(html_doc, 'html.parser')\n",
    "category = soup.find(\"li\", {\"class\": \"tabs-menu__tab_active_yes\"})\n",
    "category.text"
   ]
  }
 ],
 "metadata": {
  "kernelspec": {
   "display_name": "Python 3",
   "language": "python",
   "name": "python3"
  },
  "language_info": {
   "codemirror_mode": {
    "name": "ipython",
    "version": 3
   },
   "file_extension": ".py",
   "mimetype": "text/x-python",
   "name": "python",
   "nbconvert_exporter": "python",
   "pygments_lexer": "ipython3",
   "version": "3.6.4"
  }
 },
 "nbformat": 4,
 "nbformat_minor": 2
}
