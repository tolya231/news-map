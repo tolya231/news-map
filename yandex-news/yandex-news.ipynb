{
 "cells": [
  {
   "cell_type": "code",
   "execution_count": 13,
   "metadata": {
    "scrolled": true
   },
   "outputs": [],
   "source": [
    "import pandas as pd\n",
    "from bs4 import BeautifulSoup\n",
    "import numpy as np\n",
    "import requests"
   ]
  },
  {
   "cell_type": "code",
   "execution_count": 68,
   "metadata": {},
   "outputs": [],
   "source": [
    "KALININGRAD_RSS = 'https://news.yandex.ru/Kaliningrad/index.rss'"
   ]
  },
  {
   "cell_type": "code",
   "execution_count": 69,
   "metadata": {},
   "outputs": [],
   "source": [
    "session = HTMLSession()\n",
    "html_doc = requests.get(KALININGRAD_RSS).text\n",
    "soup = BeautifulSoup(html_doc, 'html.parser')"
   ]
  },
  {
   "cell_type": "code",
   "execution_count": 71,
   "metadata": {},
   "outputs": [
    {
     "name": "stdout",
     "output_type": "stream",
     "text": [
      "20\n"
     ]
    },
    {
     "data": {
      "text/html": [
       "<div>\n",
       "<style scoped>\n",
       "    .dataframe tbody tr th:only-of-type {\n",
       "        vertical-align: middle;\n",
       "    }\n",
       "\n",
       "    .dataframe tbody tr th {\n",
       "        vertical-align: top;\n",
       "    }\n",
       "\n",
       "    .dataframe thead th {\n",
       "        text-align: right;\n",
       "    }\n",
       "</style>\n",
       "<table border=\"1\" class=\"dataframe\">\n",
       "  <thead>\n",
       "    <tr style=\"text-align: right;\">\n",
       "      <th></th>\n",
       "      <th>title</th>\n",
       "      <th>link</th>\n",
       "      <th>text</th>\n",
       "      <th>date</th>\n",
       "    </tr>\n",
       "  </thead>\n",
       "  <tbody>\n",
       "    <tr>\n",
       "      <th>0</th>\n",
       "      <td>На выходных на участке ул. Горького откроют дв...</td>\n",
       "      <td></td>\n",
       "      <td>Двухстороннее движение на участке ремонтируемо...</td>\n",
       "      <td>15 Nov 2019 15:49:51 +0000</td>\n",
       "    </tr>\n",
       "    <tr>\n",
       "      <th>1</th>\n",
       "      <td>ДТП на улице Суворова стало причиной трехкилом...</td>\n",
       "      <td></td>\n",
       "      <td>Как стало известно, жуткая автокатастрофа прои...</td>\n",
       "      <td>15 Nov 2019 06:47:17 +0000</td>\n",
       "    </tr>\n",
       "    <tr>\n",
       "      <th>2</th>\n",
       "      <td>Минтранс считает нецелесообразным поезд из Кал...</td>\n",
       "      <td></td>\n",
       "      <td>Ответ от замминистра ведомства Владимира Токар...</td>\n",
       "      <td>15 Nov 2019 13:15:16 +0000</td>\n",
       "    </tr>\n",
       "    <tr>\n",
       "      <th>3</th>\n",
       "      <td>В Минстрое рассказали, почему расселяют «дом н...</td>\n",
       "      <td></td>\n",
       "      <td>Власти региона считают бессмысленным выделять ...</td>\n",
       "      <td>15 Nov 2019 15:13:49 +0000</td>\n",
       "    </tr>\n",
       "    <tr>\n",
       "      <th>4</th>\n",
       "      <td>В минстрое рассказали о задержке капремонта до...</td>\n",
       "      <td></td>\n",
       "      <td>Виталий Невар / Новый Калининград В поселке Же...</td>\n",
       "      <td>15 Nov 2019 13:08:37 +0000</td>\n",
       "    </tr>\n",
       "  </tbody>\n",
       "</table>\n",
       "</div>"
      ],
      "text/plain": [
       "                                               title link  \\\n",
       "0  На выходных на участке ул. Горького откроют дв...        \n",
       "1  ДТП на улице Суворова стало причиной трехкилом...        \n",
       "2  Минтранс считает нецелесообразным поезд из Кал...        \n",
       "3  В Минстрое рассказали, почему расселяют «дом н...        \n",
       "4  В минстрое рассказали о задержке капремонта до...        \n",
       "\n",
       "                                                text  \\\n",
       "0  Двухстороннее движение на участке ремонтируемо...   \n",
       "1  Как стало известно, жуткая автокатастрофа прои...   \n",
       "2  Ответ от замминистра ведомства Владимира Токар...   \n",
       "3  Власти региона считают бессмысленным выделять ...   \n",
       "4  Виталий Невар / Новый Калининград В поселке Же...   \n",
       "\n",
       "                         date  \n",
       "0  15 Nov 2019 15:49:51 +0000  \n",
       "1  15 Nov 2019 06:47:17 +0000  \n",
       "2  15 Nov 2019 13:15:16 +0000  \n",
       "3  15 Nov 2019 15:13:49 +0000  \n",
       "4  15 Nov 2019 13:08:37 +0000  "
      ]
     },
     "execution_count": 71,
     "metadata": {},
     "output_type": "execute_result"
    }
   ],
   "source": [
    "data = []\n",
    "for item in soup.find_all('item'):\n",
    "    try:\n",
    "        data.append([item.title.text, item.link.text, item.description.text, item.pubdate.text])\n",
    "    except Exception as e:\n",
    "        print(e)\n",
    "news_columns = ['title', 'link', 'text', 'date']\n",
    "news = pd.DataFrame(data, columns = news_columns)\n",
    "print(len(news.index))\n",
    "news.head()"
   ]
  },
  {
   "cell_type": "code",
   "execution_count": null,
   "metadata": {},
   "outputs": [],
   "source": []
  }
 ],
 "metadata": {
  "kernelspec": {
   "display_name": "Python 3",
   "language": "python",
   "name": "python3"
  },
  "language_info": {
   "codemirror_mode": {
    "name": "ipython",
    "version": 3
   },
   "file_extension": ".py",
   "mimetype": "text/x-python",
   "name": "python",
   "nbconvert_exporter": "python",
   "pygments_lexer": "ipython3",
   "version": "3.6.4"
  }
 },
 "nbformat": 4,
 "nbformat_minor": 2
}
